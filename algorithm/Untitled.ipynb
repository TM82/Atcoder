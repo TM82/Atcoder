{
 "cells": [
  {
   "cell_type": "code",
   "execution_count": 1,
   "metadata": {},
   "outputs": [],
   "source": [
    "import numpy as np\n",
    "import matplotlib\n",
    "\n",
    "matplotlib.use('TkAgg')\n",
    "import matplotlib.pyplot as plt"
   ]
  },
  {
   "cell_type": "code",
   "execution_count": 27,
   "metadata": {},
   "outputs": [],
   "source": [
    "np.random.seed(0)  # set the random seed for reproducibility\n",
    "\n",
    "#プロット生成\n",
    "def generate_sample(xmin, xmax, sample_size):\n",
    "    x = np.linspace(start=xmin, stop=xmax, num=sample_size)\n",
    "    pix = np.pi * x\n",
    "    target = np.sin(pix) / pix + 0.1 * x\n",
    "    noise = 0.05 * np.random.normal(loc=0., scale=1., size=sample_size)\n",
    "    return x, target + noise"
   ]
  },
  {
   "cell_type": "code",
   "execution_count": 117,
   "metadata": {},
   "outputs": [],
   "source": [
    "sample_size = 6\n",
    "xmin, xmax = -3, 3\n",
    "x, y = generate_sample(xmin=xmin, xmax=xmax, sample_size=sample_size)"
   ]
  },
  {
   "cell_type": "code",
   "execution_count": 120,
   "metadata": {},
   "outputs": [],
   "source": [
    "def calc_design_matrix(x, c, h):\n",
    "    return x[None] - c[:, None]\n",
    "#     return np.exp(-(x[None] - c[:, None]) ** 2 / (2 * h ** 2))"
   ]
  },
  {
   "cell_type": "code",
   "execution_count": 122,
   "metadata": {},
   "outputs": [
    {
     "data": {
      "text/plain": [
       "array([-3. , -1.8, -0.6,  0.6,  1.8,  3. ])"
      ]
     },
     "execution_count": 122,
     "metadata": {},
     "output_type": "execute_result"
    }
   ],
   "source": [
    "x"
   ]
  },
  {
   "cell_type": "code",
   "execution_count": 121,
   "metadata": {},
   "outputs": [
    {
     "data": {
      "text/plain": [
       "array([[ 0. ,  1.2,  2.4,  3.6,  4.8,  6. ],\n",
       "       [-1.2,  0. ,  1.2,  2.4,  3.6,  4.8],\n",
       "       [-2.4, -1.2,  0. ,  1.2,  2.4,  3.6],\n",
       "       [-3.6, -2.4, -1.2,  0. ,  1.2,  2.4],\n",
       "       [-4.8, -3.6, -2.4, -1.2,  0. ,  1.2],\n",
       "       [-6. , -4.8, -3.6, -2.4, -1.2,  0. ]])"
      ]
     },
     "execution_count": 121,
     "metadata": {},
     "output_type": "execute_result"
    }
   ],
   "source": [
    "calc_design_matrix(x,x,1)"
   ]
  },
  {
   "cell_type": "code",
   "execution_count": null,
   "metadata": {},
   "outputs": [],
   "source": []
  }
 ],
 "metadata": {
  "kernelspec": {
   "display_name": "Python 3",
   "language": "python",
   "name": "python3"
  },
  "language_info": {
   "codemirror_mode": {
    "name": "ipython",
    "version": 3
   },
   "file_extension": ".py",
   "mimetype": "text/x-python",
   "name": "python",
   "nbconvert_exporter": "python",
   "pygments_lexer": "ipython3",
   "version": "3.7.2"
  }
 },
 "nbformat": 4,
 "nbformat_minor": 2
}
